{
 "cells": [
  {
   "cell_type": "code",
   "execution_count": 1,
   "id": "f2aeadbd",
   "metadata": {},
   "outputs": [],
   "source": [
    "import cv2\n",
    "import imutils\n",
    "import tkinter as tk\n",
    "from tkinter import filedialog\n",
    "\n",
    "hog = cv2.HOGDescriptor()\n",
    "hog.setSVMDetector(cv2.HOGDescriptor_getDefaultPeopleDetector())\n",
    "def open_image():\n",
    "    # Ask the user to select an image file\n",
    "    file_path = filedialog.askopenfilename(filetypes=[(\"Image files\", \"*.jpg *.jpeg *.png\")])\n",
    "\n",
    "    if file_path:\n",
    "        # Read the image using OpenCV\n",
    "        image = cv2.imread(file_path)\n",
    "        \n",
    "        \n",
    "        image = imutils.resize(image,\n",
    "        width=min(400, image.shape[1]))\n",
    "\n",
    "        (regions, _) = hog.detectMultiScale(image, \n",
    "        winStride=(4, 4),\n",
    "        padding=(4, 4),\n",
    "        scale=1.05)\n",
    "\n",
    "\n",
    "        for (a, b, width, height) in regions:\n",
    "            cv2.rectangle(image, (a, b), \n",
    "            (a + width, b + height), \n",
    "            (0, 255, 0), 2)\n",
    "        cv2.imshow(\"Selected Image\", image)\n",
    "        cv2.waitKey(0)\n",
    "        cv2.destroyAllWindows()\n",
    "\n"
   ]
  },
  {
   "cell_type": "code",
   "execution_count": 2,
   "id": "13441be6",
   "metadata": {},
   "outputs": [],
   "source": [
    "root = tk.Tk()\n",
    "root.title(\"Pedestrian Recognition\")\n",
    "open_button = tk.Button(root, text=\"Select Image\", command=open_image)\n",
    "open_button.pack()\n",
    "root.geometry(\"350x350\")\n",
    "root.mainloop()"
   ]
  },
  {
   "cell_type": "code",
   "execution_count": null,
   "id": "31ce8311",
   "metadata": {},
   "outputs": [],
   "source": []
  }
 ],
 "metadata": {
  "kernelspec": {
   "display_name": "Python 3 (ipykernel)",
   "language": "python",
   "name": "python3"
  },
  "language_info": {
   "codemirror_mode": {
    "name": "ipython",
    "version": 3
   },
   "file_extension": ".py",
   "mimetype": "text/x-python",
   "name": "python",
   "nbconvert_exporter": "python",
   "pygments_lexer": "ipython3",
   "version": "3.11.5"
  }
 },
 "nbformat": 4,
 "nbformat_minor": 5
}
